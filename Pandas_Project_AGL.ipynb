{
 "cells": [
  {
   "cell_type": "code",
   "execution_count": 2,
   "metadata": {},
   "outputs": [
    {
     "ename": "SyntaxError",
     "evalue": "invalid syntax (<ipython-input-2-7958c3b3cc7f>, line 1)",
     "output_type": "error",
     "traceback": [
      "\u001b[1;36m  File \u001b[1;32m\"<ipython-input-2-7958c3b3cc7f>\"\u001b[1;36m, line \u001b[1;32m1\u001b[0m\n\u001b[1;33m    <a href=\"https://www.agilytics.in\"><img src = \"agilyticslogoTrans.gif\" width = 300, align = \"center\"></a>\u001b[0m\n\u001b[1;37m    ^\u001b[0m\n\u001b[1;31mSyntaxError\u001b[0m\u001b[1;31m:\u001b[0m invalid syntax\n"
     ]
    }
   ],
   "source": [
    "<a href=\"https://www.agilytics.in\"><img src = \"agilyticslogoTrans.gif\" width = 300, align = \"center\"></a>\n",
    "\n",
    "<h1><a href=\"https://www.agilytics.in\">Agilytics</a></h1>\n",
    "\n",
    "<h1 align=center><font size=5>Working with Pandas</font></h1>"
   ]
  },
  {
   "cell_type": "markdown",
   "metadata": {},
   "source": [
    "<h1>Fun With Data</h1>"
   ]
  },
  {
   "cell_type": "markdown",
   "metadata": {},
   "source": [
    "<h3>Hello!</h3>\n",
    "\n",
    "By the end of this notebook, you would have completed how to handle data using Pandas library in Python! "
   ]
  },
  {
   "cell_type": "markdown",
   "metadata": {},
   "source": [
    "<h2>Table of content</h2>\n",
    "\n",
    "<div style=\"margin-top: 20px\">\n",
    "<ul>\n",
    "    <li><a href=\"#loading_data\">Loading Data</a></li>\n",
    "    <li><a href=\"#columns_headers\">Assigning Headers</a></li>\n",
    "    <li><a href=\"#drop\">Dropping columns</a></li>\n",
    "    <li><a href=\"#isnull\">Checking Null values</a></li>\n",
    "    <li><a href=\"#create_index\">Creating index</a></li>\n",
    "    <li><a href=\"#fetching_data\">Fetching Data</a>\n",
    "        <ul>\n",
    "        <li><a href=\"#loc\">Using Labels</a></li>\n",
    "        <li><a href=\"#iloc\">Using Index values</a></li>\n",
    "        </ul>\n",
    "    </li>\n",
    "    <li><a href=\"#save\">Saving File</a></li>\n",
    "</ul>\n",
    "</div>\n"
   ]
  },
  {
   "cell_type": "markdown",
   "metadata": {},
   "source": [
    "<h2>Uses of Pandas Library</h2>"
   ]
  },
  {
   "cell_type": "markdown",
   "metadata": {},
   "source": [
    "Pandas is a useful library for Data Exploration and Data Handling, which may be convenient to use for analysis."
   ]
  },
  {
   "cell_type": "markdown",
   "metadata": {},
   "source": [
    "<h3>Let's get started</h3>"
   ]
  },
  {
   "cell_type": "markdown",
   "metadata": {},
   "source": [
    "<h3>Dataset </h3>\n",
    "<p>\n",
    "For this project, we will use CO2 gas emission data of different cars. This dataset is publicly available and here supplied in the csv format.</p>"
   ]
  },
  {
   "cell_type": "markdown",
   "metadata": {},
   "source": [
    "<h3>Import libraries </h3>\n",
    "<p>\n",
    "The first step to start working is to import the required libraries in the beginning (Although it is not mandatory in Python to import libraries at the top, but it is a good practice) </p>"
   ]
  },
  {
   "cell_type": "markdown",
   "metadata": {},
   "source": [
    "<h4>Import pandas</h4> "
   ]
  },
  {
   "cell_type": "code",
   "execution_count": null,
   "metadata": {},
   "outputs": [],
   "source": [
    "%matplotlib inline\n",
    "import pandas as pd\n",
    "import matplotlib.pylab as plt"
   ]
  },
  {
   "cell_type": "markdown",
   "metadata": {},
   "source": [
    "Here, pd is the general acronym used for importing pandas library."
   ]
  },
  {
   "cell_type": "markdown",
   "metadata": {},
   "source": [
    "<h2 id=\"loading_data\">Loading Data</h2>"
   ]
  },
  {
   "cell_type": "markdown",
   "metadata": {},
   "source": [
    "Here, we are assuming that you have put the csv file for the Dataset in the current folder in which you have your Jupyter notebook"
   ]
  },
  {
   "cell_type": "code",
   "execution_count": null,
   "metadata": {},
   "outputs": [],
   "source": [
    "filename = \"CO2 emission.csv\""
   ]
  },
  {
   "cell_type": "markdown",
   "metadata": {},
   "source": [
    "If your csv file is at some different location, change/add the location of your path in the filename variable above"
   ]
  },
  {
   "cell_type": "code",
   "execution_count": null,
   "metadata": {},
   "outputs": [],
   "source": [
    "# To see what the data set looks like, we'll use the head() method.\n",
    "df.head()"
   ]
  },
  {
   "cell_type": "markdown",
   "metadata": {},
   "source": [
    "<h2 id=\"columns_headers\">Header Values</h2>"
   ]
  },
  {
   "cell_type": "markdown",
   "metadata": {},
   "source": [
    "Here, csv file does not contain the column names, hence we will create headers using a Python List.\n",
    "\n",
    "Next, creating a Python list called <b>headers</b> containing name of headers "
   ]
  },
  {
   "cell_type": "code",
   "execution_count": null,
   "metadata": {},
   "outputs": [],
   "source": [
    "headers = [\"MODELYEAR\",\"MAKE\",\"MODEL\",\"VEHICLECLASS\",\"ENGINESIZE\",\"CYLINDERS\",\"TRANSMISSION\",\"FUELTYPE\",\"FUELCONSUMPTION_CITY\",\"FUELCONSUMPTION_HWY\",\"FUELCONSUMPTION_COMB\",\"FUELCONSUMPTION_COMB_MPG\",\"CO2EMISSIONS\"\n",
    "]"
   ]
  },
  {
   "cell_type": "markdown",
   "metadata": {},
   "source": [
    "Use the Pandas method <b>read_csv()</b> to load the data from the web address. Set the parameter  \"names\" equal to the Python list \"headers\"."
   ]
  },
  {
   "cell_type": "code",
   "execution_count": null,
   "metadata": {},
   "outputs": [],
   "source": [
    "df = pd.read_csv(filename,names=headers)"
   ]
  },
  {
   "cell_type": "markdown",
   "metadata": {},
   "source": [
    " <p style=\"color:red\">Now, display the first five rows of the dataframe.</p>"
   ]
  },
  {
   "cell_type": "code",
   "execution_count": null,
   "metadata": {},
   "outputs": [],
   "source": [
    "# Press shift + enter to execute the code\n",
    "\n",
    "df.head()"
   ]
  },
  {
   "cell_type": "markdown",
   "metadata": {},
   "source": [
    "Now, you could have seen that the column has got nice names, making our data readable and understandable"
   ]
  },
  {
   "cell_type": "markdown",
   "metadata": {},
   "source": [
    "<h2 id=\"drop\">Dropping the column</h2>"
   ]
  },
  {
   "cell_type": "markdown",
   "metadata": {},
   "source": [
    "Next, FUELCONSUMPTION_CITY, FUELCONSUMPTION_HWY, FUELCONSUMPTION_COMB are 3 columns related to fuel consumption only, our task is to delete the unrequired column from the Dataframe.\n",
    "\n",
    "Here, we will delete FUELCONSUMPTION_CITY, FUELCONSUMPTION_HWY columns from the dataframe"
   ]
  },
  {
   "cell_type": "code",
   "execution_count": null,
   "metadata": {
    "scrolled": true
   },
   "outputs": [],
   "source": [
    "df.drop(columns=[\"FUELCONSUMPTION_CITY\", \"FUELCONSUMPTION_HWY\"])"
   ]
  },
  {
   "cell_type": "markdown",
   "metadata": {},
   "source": [
    "<div style=\"background-color:#E6E6FA;color:navy\">\n",
    "<h1> Question : </h1>\n",
    "\n",
    "<b>Similar way, you drop the column FUELCONSUMPTION_COMB_MPG from the dataframe in the line below</b>\n",
    "</div>"
   ]
  },
  {
   "cell_type": "code",
   "execution_count": null,
   "metadata": {
    "scrolled": true
   },
   "outputs": [],
   "source": [
    "# Write your code below, Press Shift + Enter to execute your code\n"
   ]
  },
  {
   "cell_type": "markdown",
   "metadata": {},
   "source": [
    "Double-click <b>here</b> for the solution.\n",
    "\n",
    "<!-- The answer is :\n",
    "\n",
    "df.drop(columns=[\"FUELCONSUMPTION_COMB_MPG\"])\n",
    "\n",
    "-->"
   ]
  },
  {
   "cell_type": "markdown",
   "metadata": {},
   "source": [
    "<h2 id=\"isnull\">Checkig Null values</h2>"
   ]
  },
  {
   "cell_type": "code",
   "execution_count": null,
   "metadata": {},
   "outputs": [],
   "source": [
    "df.isnull()"
   ]
  },
  {
   "cell_type": "markdown",
   "metadata": {},
   "source": [
    "This way we can see, if there is any True value in any of the cell. But this way might not be handy when the data size is big, then we want to see overall if a particular column has how many null values or how many cells are null in a row.\n",
    "So, see number of cells having null for each of the column, following code can be run -"
   ]
  },
  {
   "cell_type": "code",
   "execution_count": null,
   "metadata": {},
   "outputs": [],
   "source": [
    "df.isnull().sum()"
   ]
  },
  {
   "cell_type": "markdown",
   "metadata": {},
   "source": [
    "Now, to see how many null items are there in each and every row, we need to pass axis=1 as an arguement to the sum() function"
   ]
  },
  {
   "cell_type": "code",
   "execution_count": null,
   "metadata": {},
   "outputs": [],
   "source": [
    "df.isnull().sum(axis=1)"
   ]
  },
  {
   "cell_type": "markdown",
   "metadata": {},
   "source": [
    "Here, we have seen that no any cell has any null value in it, so no action is required. Next, we will see how to index our data in our desired way"
   ]
  },
  {
   "cell_type": "markdown",
   "metadata": {},
   "source": [
    "<h2 id=\"create_index\">Row Indexing</h2>"
   ]
  },
  {
   "cell_type": "markdown",
   "metadata": {},
   "source": [
    "Once we created the dataframe, the default values of the row index is assigned which is 0,1,2,3... We can change it to something else, or even assign one/more column(s) as the index. The main benefit of indexing is assign unqiue values.\n",
    "\n",
    "Here, we will assign ModelYear column as the index. For this we will use set_index() function on dataframe df."
   ]
  },
  {
   "cell_type": "code",
   "execution_count": null,
   "metadata": {
    "scrolled": false
   },
   "outputs": [],
   "source": [
    "# Set new index\n",
    "df.set_index((df['MAKE']))"
   ]
  },
  {
   "cell_type": "markdown",
   "metadata": {},
   "source": [
    "MAKE is not a very good selection for index values as multiple cars have the same MAKE.\n",
    "What we can do, include Model and Engine Size columns also in the index"
   ]
  },
  {
   "cell_type": "code",
   "execution_count": null,
   "metadata": {},
   "outputs": [],
   "source": [
    "# Set new index\n",
    "df.set_index(['MAKE','MODEL','ENGINESIZE'])"
   ]
  },
  {
   "cell_type": "markdown",
   "metadata": {},
   "source": [
    "Now, we have set our index for all the rows, lets print the whole dataframe"
   ]
  },
  {
   "cell_type": "code",
   "execution_count": null,
   "metadata": {},
   "outputs": [],
   "source": [
    "df"
   ]
  },
  {
   "cell_type": "markdown",
   "metadata": {},
   "source": [
    "Ah! where, are our indices gone.\n",
    "Wait wait!, this is because, by default pandas does not apply changes to the dataframe, if you want changes to be reflected in Dataframe, you need to pass inplace parameter with its value as True.\n",
    "Re-run the above code after passing additional parameter inplace=True and then print the df"
   ]
  },
  {
   "cell_type": "code",
   "execution_count": null,
   "metadata": {},
   "outputs": [],
   "source": [
    "df.set_index(['MAKE','MODEL','ENGINESIZE'],inplace=True)\n",
    "df"
   ]
  },
  {
   "cell_type": "markdown",
   "metadata": {},
   "source": [
    "At any point, if you want to assign the original index to the dataframe, then make use of reset_index() function "
   ]
  },
  {
   "cell_type": "code",
   "execution_count": null,
   "metadata": {},
   "outputs": [],
   "source": [
    "# Reset the index, and display the dataframe\n",
    "df.reset_index(inplace=True)\n",
    "df"
   ]
  },
  {
   "cell_type": "markdown",
   "metadata": {},
   "source": [
    "<div style=\"background-color:#E6E6FA;color:navy\">\n",
    "<h1> Question : </h1>\n",
    "\n",
    "<b>Write the code to create a muliti-level row index using the column 'FUELTYPE' and 'VEHICLECLASS'</b>\n",
    "</div>"
   ]
  },
  {
   "cell_type": "code",
   "execution_count": null,
   "metadata": {
    "scrolled": true
   },
   "outputs": [],
   "source": [
    "# Write your code below, Press Shift + Enter to execute your code\n",
    "df.set_index(['FUELTYPE','VEHICLECLASS'],inplace=True)"
   ]
  },
  {
   "cell_type": "markdown",
   "metadata": {},
   "source": [
    "Double-click <b>here</b> for the solution.\n",
    "\n",
    "<!-- The answer is :\n",
    "\n",
    "df.set_index(['FUELTYPE','VEHICLECLASS'],inplace=True)\n",
    "\n",
    "-->"
   ]
  },
  {
   "cell_type": "markdown",
   "metadata": {},
   "source": [
    "We use head() function to display top 5 rows by default, if we need to display top N number of rows, pass it as a parameter to the head() function as shown below"
   ]
  },
  {
   "cell_type": "code",
   "execution_count": null,
   "metadata": {},
   "outputs": [],
   "source": [
    "df.head(2) #display top 2 rows of the df"
   ]
  },
  {
   "cell_type": "markdown",
   "metadata": {},
   "source": [
    "We use head() method, which returns top N no. of rows from a DataFrame, but many a times we need filtered data based on certain condition. For example, we want to look for all the cars having certain engine type of a certain Make or a combination of such conditions. Lets see how we can do that in pandas"
   ]
  },
  {
   "cell_type": "markdown",
   "metadata": {},
   "source": [
    "<h1 id=\"fetching_data\">Fetching Data</h1>"
   ]
  },
  {
   "cell_type": "markdown",
   "metadata": {},
   "source": [
    "Pandas provide the loc() function, which can be used to access data based in row and/or column Labels (or names). In other words loc() function is used to access a group of rows and columns by label(s) or a boolean array.\n",
    "\n",
    ".loc[] is mainly used by passing labels, but may also be used with a boolean array."
   ]
  },
  {
   "cell_type": "markdown",
   "metadata": {},
   "source": [
    "<h2 id=\"loc\">using Row/Column Label</h2>"
   ]
  },
  {
   "cell_type": "markdown",
   "metadata": {},
   "source": [
    "Suppose our requirement is to fetch rows based on index value. For example, find all the rows having FUELTYPE as 'D'"
   ]
  },
  {
   "cell_type": "code",
   "execution_count": null,
   "metadata": {},
   "outputs": [],
   "source": [
    "df.loc['D']"
   ]
  },
  {
   "cell_type": "markdown",
   "metadata": {},
   "source": [
    "default label is considered for row"
   ]
  },
  {
   "cell_type": "markdown",
   "metadata": {},
   "source": [
    "Now, suppose we want to fetch data based on multiple row labels. For example, fetch all the cars having Fueltype as either 'D' or 'Z'"
   ]
  },
  {
   "cell_type": "code",
   "execution_count": null,
   "metadata": {},
   "outputs": [],
   "source": [
    "df.loc['D','Z']"
   ]
  },
  {
   "cell_type": "markdown",
   "metadata": {},
   "source": [
    "In this condition, when we have more than one row labels, we need to pass the labels as a List, hence code would be"
   ]
  },
  {
   "cell_type": "code",
   "execution_count": null,
   "metadata": {
    "scrolled": true
   },
   "outputs": [],
   "source": [
    "df.loc[['D','Z']]"
   ]
  },
  {
   "cell_type": "markdown",
   "metadata": {},
   "source": [
    "### Multi-Index Row Lebels"
   ]
  },
  {
   "cell_type": "code",
   "execution_count": null,
   "metadata": {},
   "outputs": [],
   "source": [
    "df.loc[('D','PICKUP TRUCK - STANDARD')]"
   ]
  },
  {
   "cell_type": "code",
   "execution_count": null,
   "metadata": {},
   "outputs": [],
   "source": [
    "df.loc[('D','PICKUP TRUCK - STANDARD')]"
   ]
  },
  {
   "cell_type": "markdown",
   "metadata": {},
   "source": [
    "### Single Value using Row and Column Labels"
   ]
  },
  {
   "cell_type": "code",
   "execution_count": null,
   "metadata": {},
   "outputs": [],
   "source": [
    "df.loc[('D','PICKUP TRUCK - STANDARD'),'FUELCONSUMPTION_COMB']"
   ]
  },
  {
   "cell_type": "markdown",
   "metadata": {},
   "source": [
    "### Fetching based on Single Column Label"
   ]
  },
  {
   "cell_type": "code",
   "execution_count": null,
   "metadata": {},
   "outputs": [],
   "source": [
    "df.loc[:,\"FUELCONSUMPTION_COMB\"]"
   ]
  },
  {
   "cell_type": "markdown",
   "metadata": {},
   "source": [
    "### Fetching Row based on some column condition"
   ]
  },
  {
   "cell_type": "markdown",
   "metadata": {},
   "source": [
    "For example, fetch all the rows which have FUELCONSUMPTION_COMB greater than 15. For this we will first apply the condition in the inner list and then fetch all the required row"
   ]
  },
  {
   "cell_type": "code",
   "execution_count": null,
   "metadata": {},
   "outputs": [],
   "source": [
    "df.loc[df['FUELCONSUMPTION_COMB'] > 15] "
   ]
  },
  {
   "cell_type": "markdown",
   "metadata": {},
   "source": [
    "### Display Selected columns on the filtered Data"
   ]
  },
  {
   "cell_type": "markdown",
   "metadata": {},
   "source": [
    "Display columns 'FUELCONSUMPTION_COMB' and 'CO2EMISSIONS' for the cars having 'FUELCONSUMPTION_COMB greater than 15"
   ]
  },
  {
   "cell_type": "code",
   "execution_count": null,
   "metadata": {},
   "outputs": [],
   "source": [
    "df[['FUELCONSUMPTION_COMB','CO2EMISSIONS']].loc[df['FUELCONSUMPTION_COMB'] > 15] "
   ]
  },
  {
   "cell_type": "markdown",
   "metadata": {},
   "source": [
    "<h2 id=\"iloc\">using row/column index</h2>"
   ]
  },
  {
   "cell_type": "markdown",
   "metadata": {},
   "source": [
    "Some time we just need the index values to filter and access the data, for this Pandas provide iloc() function"
   ]
  },
  {
   "cell_type": "markdown",
   "metadata": {},
   "source": [
    "Lets display the data using head() function"
   ]
  },
  {
   "cell_type": "code",
   "execution_count": 106,
   "metadata": {},
   "outputs": [
    {
     "data": {
      "text/html": [
       "<div>\n",
       "<style scoped>\n",
       "    .dataframe tbody tr th:only-of-type {\n",
       "        vertical-align: middle;\n",
       "    }\n",
       "\n",
       "    .dataframe tbody tr th {\n",
       "        vertical-align: top;\n",
       "    }\n",
       "\n",
       "    .dataframe thead th {\n",
       "        text-align: right;\n",
       "    }\n",
       "</style>\n",
       "<table border=\"1\" class=\"dataframe\">\n",
       "  <thead>\n",
       "    <tr style=\"text-align: right;\">\n",
       "      <th></th>\n",
       "      <th></th>\n",
       "      <th>ENGINESIZE</th>\n",
       "      <th>MODELYEAR</th>\n",
       "    </tr>\n",
       "    <tr>\n",
       "      <th>FUELTYPE</th>\n",
       "      <th>VEHICLECLASS</th>\n",
       "      <th></th>\n",
       "      <th></th>\n",
       "    </tr>\n",
       "  </thead>\n",
       "  <tbody>\n",
       "    <tr>\n",
       "      <th rowspan=\"2\" valign=\"top\">Z</th>\n",
       "      <th>COMPACT</th>\n",
       "      <td>2.0</td>\n",
       "      <td>2014</td>\n",
       "    </tr>\n",
       "    <tr>\n",
       "      <th>MID-SIZE</th>\n",
       "      <td>3.7</td>\n",
       "      <td>2014</td>\n",
       "    </tr>\n",
       "  </tbody>\n",
       "</table>\n",
       "</div>"
      ],
      "text/plain": [
       "                       ENGINESIZE  MODELYEAR\n",
       "FUELTYPE VEHICLECLASS                       \n",
       "Z        COMPACT              2.0       2014\n",
       "         MID-SIZE             3.7       2014"
      ]
     },
     "execution_count": 106,
     "metadata": {},
     "output_type": "execute_result"
    }
   ],
   "source": [
    "df.head(2)"
   ]
  },
  {
   "cell_type": "markdown",
   "metadata": {},
   "source": [
    "Now, suppose we want to fetch row with index 2 and column with index 1 (ie CYLINDERS column)\n",
    "we will use the iloc() with below parameters"
   ]
  },
  {
   "cell_type": "code",
   "execution_count": null,
   "metadata": {},
   "outputs": [],
   "source": [
    "df.iloc[2,1]"
   ]
  },
  {
   "cell_type": "markdown",
   "metadata": {},
   "source": [
    "We can also fetch a range of data by slicing method.\n",
    "For example, to fetch row indexed 2 to 4 and column 1 to 3, run the below code"
   ]
  },
  {
   "cell_type": "code",
   "execution_count": null,
   "metadata": {},
   "outputs": [],
   "source": [
    "df.iloc[2:4,1:3]"
   ]
  },
  {
   "cell_type": "markdown",
   "metadata": {},
   "source": [
    "<div style=\"background-color:#E6E6FA;color:navy\" margin=\"top:20px\">\n",
    "<h1> Question : </h1>\n",
    "\n",
    "<b>According to the example above, display the rows from first to third and Cylinders column using index values.</b>\n",
    "</div>"
   ]
  },
  {
   "cell_type": "code",
   "execution_count": 107,
   "metadata": {},
   "outputs": [],
   "source": [
    "# Write your code here, Press Shift + Enter to execute your code\n"
   ]
  },
  {
   "cell_type": "markdown",
   "metadata": {},
   "source": [
    "If the rows and columns to be fetched are not adjacent or falling in a range, then we can pass the row or column numbers in a list\n",
    "For example to fetch the row with indices 0 and 2 along with column 1 and 4, following line of code is run"
   ]
  },
  {
   "cell_type": "code",
   "execution_count": null,
   "metadata": {
    "scrolled": true
   },
   "outputs": [],
   "source": [
    "df.iloc[[0,2],[1,4]]"
   ]
  },
  {
   "cell_type": "markdown",
   "metadata": {},
   "source": [
    "<div style=\"background-color:#E6E6FA;color:navy\" margin=\"top:20px\">\n",
    "<h1> Question : </h1>\n",
    "\n",
    "<b>Write the code using iloc() function to fetch row 0, 7 and 224 and column ranging from 2 to 4</b>\n",
    "</div>"
   ]
  },
  {
   "cell_type": "code",
   "execution_count": 108,
   "metadata": {
    "scrolled": true
   },
   "outputs": [],
   "source": [
    "# Write your code below, Press Shift + Enter to execute your code\n"
   ]
  },
  {
   "cell_type": "markdown",
   "metadata": {},
   "source": [
    "Double-click <b>here</b> for the solution.\n",
    "\n",
    "<!-- The answer is :\n",
    "\n",
    "df = df.iloc[[0,7,224],2:4]\n",
    "df\n",
    "\n",
    "-->"
   ]
  },
  {
   "cell_type": "markdown",
   "metadata": {},
   "source": [
    "<h1 id=\"save\">Saving CSV File</h1>\n",
    "\n",
    "save the dataframe to a new csv file, using the to_csv() function "
   ]
  },
  {
   "cell_type": "code",
   "execution_count": null,
   "metadata": {},
   "outputs": [],
   "source": [
    "df.to_csv('clean_df.csv')"
   ]
  },
  {
   "cell_type": "markdown",
   "metadata": {},
   "source": [
    "<h1>Thank you for completing this notebook</h1>"
   ]
  },
  {
   "cell_type": "markdown",
   "metadata": {},
   "source": [
    "<div class=\"alert alert-block alert-info\" style=\"margin-top: 20px\">\n",
    "\n",
    "    <p><a href=\"url_for_feedback page\"><img src=\"https://url_give_US_COURSE_FEEDBACK/Images/course_feedback.png\" width=\"750\" align=\"center\"></a></p>\n",
    "</div>"
   ]
  }
 ],
 "metadata": {
  "anaconda-cloud": {},
  "kernelspec": {
   "display_name": "Python 3",
   "language": "python",
   "name": "python3"
  },
  "language_info": {
   "codemirror_mode": {
    "name": "ipython",
    "version": 3
   },
   "file_extension": ".py",
   "mimetype": "text/x-python",
   "name": "python",
   "nbconvert_exporter": "python",
   "pygments_lexer": "ipython3",
   "version": "3.7.4"
  }
 },
 "nbformat": 4,
 "nbformat_minor": 2
}
